{
 "cells": [
  {
   "cell_type": "markdown",
   "id": "401f682e-520c-4b9a-b2dc-bd3bd73eae1e",
   "metadata": {},
   "source": [
    "# Geographical Visualizations"
   ]
  },
  {
   "cell_type": "markdown",
   "id": "66b5354b-02d0-47fe-a4a9-dde68f8d589f",
   "metadata": {},
   "source": [
    "### This script contains the following:\n",
    "#### 1. Import data and libraries\n",
    "#### 2. Data wrangling\n",
    "#### 3. Data preparation\n",
    "#### 4. Plotting a choropleth"
   ]
  },
  {
   "cell_type": "markdown",
   "id": "cf2fb8f6-d59a-4784-93c2-91381a5b718f",
   "metadata": {
    "tags": []
   },
   "source": [
    "### 1. Import data and libraries"
   ]
  },
  {
   "cell_type": "code",
   "execution_count": 5,
   "id": "4bb88693-1ca5-4b97-a8cf-c4cb5001d0e3",
   "metadata": {
    "tags": []
   },
   "outputs": [],
   "source": [
    "import pandas as pd\n",
    "import numpy as np\n",
    "import seaborn as sns\n",
    "import matplotlib\n",
    "import os\n",
    "import folium\n",
    "import json"
   ]
  },
  {
   "cell_type": "code",
   "execution_count": 6,
   "id": "b5329e13-318f-4864-aee6-7a5d8b6670db",
   "metadata": {
    "tags": []
   },
   "outputs": [],
   "source": [
    "# This command propts matplotlib visuals to appear in the notebook \n",
    "\n",
    "%matplotlib inline"
   ]
  },
  {
   "cell_type": "code",
   "execution_count": 7,
   "id": "bd99486e-11d9-47a4-a081-65c3eef9e3eb",
   "metadata": {
    "tags": []
   },
   "outputs": [],
   "source": [
    "# establish data path\n",
    "\n",
    "data_path = r'C:\\Users\\gerar\\CareerFoundry Python\\Spotify charts streaming analysis'"
   ]
  },
  {
   "cell_type": "code",
   "execution_count": 8,
   "id": "48b08078-eb19-4d0e-8a0b-3a691e7a8bf2",
   "metadata": {
    "tags": []
   },
   "outputs": [
    {
     "data": {
      "text/html": [
       "<div>\n",
       "<style scoped>\n",
       "    .dataframe tbody tr th:only-of-type {\n",
       "        vertical-align: middle;\n",
       "    }\n",
       "\n",
       "    .dataframe tbody tr th {\n",
       "        vertical-align: top;\n",
       "    }\n",
       "\n",
       "    .dataframe thead th {\n",
       "        text-align: right;\n",
       "    }\n",
       "</style>\n",
       "<table border=\"1\" class=\"dataframe\">\n",
       "  <thead>\n",
       "    <tr style=\"text-align: right;\">\n",
       "      <th></th>\n",
       "      <th>uri</th>\n",
       "      <th>artist_names</th>\n",
       "      <th>artists_num</th>\n",
       "      <th>artist_individual</th>\n",
       "      <th>artist_id</th>\n",
       "      <th>artist_genre</th>\n",
       "      <th>collab</th>\n",
       "      <th>track_name</th>\n",
       "      <th>album_num_tracks</th>\n",
       "      <th>peak_rank</th>\n",
       "      <th>weeks_on_chart</th>\n",
       "      <th>streams</th>\n",
       "      <th>week</th>\n",
       "      <th>danceability</th>\n",
       "      <th>energy</th>\n",
       "      <th>key</th>\n",
       "      <th>mode</th>\n",
       "      <th>loudness</th>\n",
       "      <th>acousticness</th>\n",
       "      <th>instrumentalness</th>\n",
       "      <th>liveness</th>\n",
       "      <th>valence</th>\n",
       "      <th>tempo</th>\n",
       "      <th>duration</th>\n",
       "      <th>country</th>\n",
       "      <th>region</th>\n",
       "      <th>language</th>\n",
       "    </tr>\n",
       "  </thead>\n",
       "  <tbody>\n",
       "    <tr>\n",
       "      <th>0</th>\n",
       "      <td>spotify:track:2gpQi3hbcUAcEG8m2dlgfB</td>\n",
       "      <td>Paulo Londra</td>\n",
       "      <td>1.0</td>\n",
       "      <td>Paulo Londra</td>\n",
       "      <td>spotify:artist:3vQ0GE3mI0dAaxIMYe5g7z</td>\n",
       "      <td>argentine hip hop</td>\n",
       "      <td>0</td>\n",
       "      <td>Plan A</td>\n",
       "      <td>1.0</td>\n",
       "      <td>1</td>\n",
       "      <td>4</td>\n",
       "      <td>3003411</td>\n",
       "      <td>2022-04-14</td>\n",
       "      <td>0.583</td>\n",
       "      <td>0.834</td>\n",
       "      <td>0.0</td>\n",
       "      <td>1.0</td>\n",
       "      <td>-4.875</td>\n",
       "      <td>0.0495</td>\n",
       "      <td>0.000000</td>\n",
       "      <td>0.0658</td>\n",
       "      <td>0.557</td>\n",
       "      <td>173.935</td>\n",
       "      <td>178.0</td>\n",
       "      <td>Argentina</td>\n",
       "      <td>South America</td>\n",
       "      <td>Spanish</td>\n",
       "    </tr>\n",
       "    <tr>\n",
       "      <th>1</th>\n",
       "      <td>spotify:track:2x8oBuYaObjqHqgGuIUZ0b</td>\n",
       "      <td>WOS</td>\n",
       "      <td>1.0</td>\n",
       "      <td>WOS</td>\n",
       "      <td>spotify:artist:5YCc6xS5Gpj3EkaYGdjyNK</td>\n",
       "      <td>argentine indie</td>\n",
       "      <td>0</td>\n",
       "      <td>ARRANCARMELO</td>\n",
       "      <td>1.0</td>\n",
       "      <td>2</td>\n",
       "      <td>2</td>\n",
       "      <td>2512175</td>\n",
       "      <td>2022-04-14</td>\n",
       "      <td>0.654</td>\n",
       "      <td>0.354</td>\n",
       "      <td>5.0</td>\n",
       "      <td>1.0</td>\n",
       "      <td>-7.358</td>\n",
       "      <td>0.7240</td>\n",
       "      <td>0.000000</td>\n",
       "      <td>0.1340</td>\n",
       "      <td>0.262</td>\n",
       "      <td>81.956</td>\n",
       "      <td>184.0</td>\n",
       "      <td>Argentina</td>\n",
       "      <td>South America</td>\n",
       "      <td>Spanish</td>\n",
       "    </tr>\n",
       "    <tr>\n",
       "      <th>2</th>\n",
       "      <td>spotify:track:2SJZdZ5DLtlRosJ2xHJJJa</td>\n",
       "      <td>Paulo Londra</td>\n",
       "      <td>1.0</td>\n",
       "      <td>Paulo Londra</td>\n",
       "      <td>spotify:artist:3vQ0GE3mI0dAaxIMYe5g7z</td>\n",
       "      <td>argentine hip hop</td>\n",
       "      <td>0</td>\n",
       "      <td>Chance</td>\n",
       "      <td>2.0</td>\n",
       "      <td>3</td>\n",
       "      <td>2</td>\n",
       "      <td>2408983</td>\n",
       "      <td>2022-04-14</td>\n",
       "      <td>0.721</td>\n",
       "      <td>0.463</td>\n",
       "      <td>1.0</td>\n",
       "      <td>0.0</td>\n",
       "      <td>-9.483</td>\n",
       "      <td>0.2410</td>\n",
       "      <td>0.000000</td>\n",
       "      <td>0.0929</td>\n",
       "      <td>0.216</td>\n",
       "      <td>137.915</td>\n",
       "      <td>204.0</td>\n",
       "      <td>Argentina</td>\n",
       "      <td>South America</td>\n",
       "      <td>Spanish</td>\n",
       "    </tr>\n",
       "    <tr>\n",
       "      <th>3</th>\n",
       "      <td>spotify:track:1O2pcBJGej0pmH2Y9XZMs6</td>\n",
       "      <td>Cris Mj</td>\n",
       "      <td>1.0</td>\n",
       "      <td>Cris Mj</td>\n",
       "      <td>spotify:artist:1Yj5Xey7kTwvZla8sqdsdE</td>\n",
       "      <td>urbano chileno</td>\n",
       "      <td>0</td>\n",
       "      <td>Una Noche en Medellín</td>\n",
       "      <td>1.0</td>\n",
       "      <td>5</td>\n",
       "      <td>8</td>\n",
       "      <td>2080139</td>\n",
       "      <td>2022-04-14</td>\n",
       "      <td>0.870</td>\n",
       "      <td>0.548</td>\n",
       "      <td>10.0</td>\n",
       "      <td>0.0</td>\n",
       "      <td>-5.253</td>\n",
       "      <td>0.0924</td>\n",
       "      <td>0.000046</td>\n",
       "      <td>0.0534</td>\n",
       "      <td>0.832</td>\n",
       "      <td>96.018</td>\n",
       "      <td>154.0</td>\n",
       "      <td>Argentina</td>\n",
       "      <td>South America</td>\n",
       "      <td>Spanish</td>\n",
       "    </tr>\n",
       "    <tr>\n",
       "      <th>4</th>\n",
       "      <td>spotify:track:1TpZKxGnHp37ohJRszTSiq</td>\n",
       "      <td>Emilia</td>\n",
       "      <td>1.0</td>\n",
       "      <td>Emilia</td>\n",
       "      <td>spotify:artist:0AqlFI0tz2DsEoJlKSIiT9</td>\n",
       "      <td>pop argentino</td>\n",
       "      <td>0</td>\n",
       "      <td>cuatro veinte</td>\n",
       "      <td>1.0</td>\n",
       "      <td>6</td>\n",
       "      <td>3</td>\n",
       "      <td>1923270</td>\n",
       "      <td>2022-04-14</td>\n",
       "      <td>0.761</td>\n",
       "      <td>0.696</td>\n",
       "      <td>7.0</td>\n",
       "      <td>0.0</td>\n",
       "      <td>-3.817</td>\n",
       "      <td>0.0811</td>\n",
       "      <td>0.000063</td>\n",
       "      <td>0.1010</td>\n",
       "      <td>0.501</td>\n",
       "      <td>95.066</td>\n",
       "      <td>134.0</td>\n",
       "      <td>Argentina</td>\n",
       "      <td>South America</td>\n",
       "      <td>Spanish</td>\n",
       "    </tr>\n",
       "  </tbody>\n",
       "</table>\n",
       "</div>"
      ],
      "text/plain": [
       "                                    uri  artist_names  artists_num  \\\n",
       "0  spotify:track:2gpQi3hbcUAcEG8m2dlgfB  Paulo Londra          1.0   \n",
       "1  spotify:track:2x8oBuYaObjqHqgGuIUZ0b           WOS          1.0   \n",
       "2  spotify:track:2SJZdZ5DLtlRosJ2xHJJJa  Paulo Londra          1.0   \n",
       "3  spotify:track:1O2pcBJGej0pmH2Y9XZMs6       Cris Mj          1.0   \n",
       "4  spotify:track:1TpZKxGnHp37ohJRszTSiq        Emilia          1.0   \n",
       "\n",
       "  artist_individual                              artist_id       artist_genre  \\\n",
       "0      Paulo Londra  spotify:artist:3vQ0GE3mI0dAaxIMYe5g7z  argentine hip hop   \n",
       "1               WOS  spotify:artist:5YCc6xS5Gpj3EkaYGdjyNK    argentine indie   \n",
       "2      Paulo Londra  spotify:artist:3vQ0GE3mI0dAaxIMYe5g7z  argentine hip hop   \n",
       "3           Cris Mj  spotify:artist:1Yj5Xey7kTwvZla8sqdsdE     urbano chileno   \n",
       "4            Emilia  spotify:artist:0AqlFI0tz2DsEoJlKSIiT9      pop argentino   \n",
       "\n",
       "   collab             track_name  album_num_tracks  peak_rank  weeks_on_chart  \\\n",
       "0       0                 Plan A               1.0          1               4   \n",
       "1       0           ARRANCARMELO               1.0          2               2   \n",
       "2       0                 Chance               2.0          3               2   \n",
       "3       0  Una Noche en Medellín               1.0          5               8   \n",
       "4       0          cuatro veinte               1.0          6               3   \n",
       "\n",
       "   streams       week  danceability  energy   key  mode  loudness  \\\n",
       "0  3003411 2022-04-14         0.583   0.834   0.0   1.0    -4.875   \n",
       "1  2512175 2022-04-14         0.654   0.354   5.0   1.0    -7.358   \n",
       "2  2408983 2022-04-14         0.721   0.463   1.0   0.0    -9.483   \n",
       "3  2080139 2022-04-14         0.870   0.548  10.0   0.0    -5.253   \n",
       "4  1923270 2022-04-14         0.761   0.696   7.0   0.0    -3.817   \n",
       "\n",
       "   acousticness  instrumentalness  liveness  valence    tempo  duration  \\\n",
       "0        0.0495          0.000000    0.0658    0.557  173.935     178.0   \n",
       "1        0.7240          0.000000    0.1340    0.262   81.956     184.0   \n",
       "2        0.2410          0.000000    0.0929    0.216  137.915     204.0   \n",
       "3        0.0924          0.000046    0.0534    0.832   96.018     154.0   \n",
       "4        0.0811          0.000063    0.1010    0.501   95.066     134.0   \n",
       "\n",
       "     country         region language  \n",
       "0  Argentina  South America  Spanish  \n",
       "1  Argentina  South America  Spanish  \n",
       "2  Argentina  South America  Spanish  \n",
       "3  Argentina  South America  Spanish  \n",
       "4  Argentina  South America  Spanish  "
      ]
     },
     "execution_count": 8,
     "metadata": {},
     "output_type": "execute_result"
    }
   ],
   "source": [
    "# import data\n",
    "df_spotify = pd.read_pickle(os.path.join(data_path, '02 Data', 'Prepared Data', 'spotify_clean_no_global.pkl'))\n",
    "geojson_path = r'C:\\Users\\gerar\\CareerFoundry Python\\Spotify charts streaming analysis\\02 Data\\Original Data\\world-countries.json'\n",
    "\n",
    "# Load the GeoJSON data into a Python dictionary\n",
    "with open(geojson_path, 'r') as file:\n",
    "    country_json = json.load(file)\n",
    "\n",
    "# column display\n",
    "\n",
    "pd.options.display.max_columns = 50\n",
    "    \n",
    "# show\n",
    "df_spotify.head()"
   ]
  },
  {
   "cell_type": "markdown",
   "id": "0b5b2f6b-4db9-4562-8b1a-5a8cb4ef6253",
   "metadata": {
    "tags": []
   },
   "source": [
    "### 2. Data wrangling "
   ]
  },
  {
   "cell_type": "code",
   "execution_count": 10,
   "id": "482de39a-ad90-474f-9b03-c50d39782c26",
   "metadata": {
    "tags": []
   },
   "outputs": [
    {
     "data": {
      "text/plain": [
       "Index(['uri', 'artist_names', 'artists_num', 'artist_individual', 'artist_id',\n",
       "       'artist_genre', 'collab', 'track_name', 'album_num_tracks', 'peak_rank',\n",
       "       'weeks_on_chart', 'streams', 'week', 'danceability', 'energy', 'key',\n",
       "       'mode', 'loudness', 'acousticness', 'instrumentalness', 'liveness',\n",
       "       'valence', 'tempo', 'duration', 'country', 'region', 'language'],\n",
       "      dtype='object')"
      ]
     },
     "execution_count": 10,
     "metadata": {},
     "output_type": "execute_result"
    }
   ],
   "source": [
    "df_spotify.columns"
   ]
  },
  {
   "cell_type": "code",
   "execution_count": 29,
   "id": "8e08a397-005f-4aec-b049-54b62f843375",
   "metadata": {
    "tags": []
   },
   "outputs": [],
   "source": [
    "# Drop columns from main dataframe\n",
    "\n",
    "df_spotify.drop(columns = ['artist_names', 'artists_num', 'artist_individual',\n",
    "       'artist_id', 'artist_genre','peak_rank', 'collab', 'track_name', 'album_num_tracks','streams', 'key', 'region', 'language'], inplace = True)"
   ]
  },
  {
   "cell_type": "code",
   "execution_count": 31,
   "id": "28189ecd-eaa5-4a89-9e19-87ddfbdd8f60",
   "metadata": {},
   "outputs": [
    {
     "data": {
      "text/plain": [
       "uri                 0\n",
       "weeks_on_chart      0\n",
       "week                0\n",
       "danceability        0\n",
       "energy              0\n",
       "mode                0\n",
       "loudness            0\n",
       "acousticness        0\n",
       "instrumentalness    0\n",
       "liveness            0\n",
       "valence             0\n",
       "tempo               0\n",
       "duration            0\n",
       "country             0\n",
       "dtype: int64"
      ]
     },
     "execution_count": 31,
     "metadata": {},
     "output_type": "execute_result"
    }
   ],
   "source": [
    "# check for null values\n",
    "df_spotify.isnull().sum()"
   ]
  },
  {
   "cell_type": "markdown",
   "id": "3368e06c-cd6f-460a-b13c-36f0c02ad892",
   "metadata": {},
   "source": [
    "##### **Checking unusual values**"
   ]
  },
  {
   "cell_type": "code",
   "execution_count": 34,
   "id": "cd6dcf13-447c-42c6-bfb4-536108f525c9",
   "metadata": {
    "tags": []
   },
   "outputs": [
    {
     "data": {
      "text/html": [
       "<div>\n",
       "<style scoped>\n",
       "    .dataframe tbody tr th:only-of-type {\n",
       "        vertical-align: middle;\n",
       "    }\n",
       "\n",
       "    .dataframe tbody tr th {\n",
       "        vertical-align: top;\n",
       "    }\n",
       "\n",
       "    .dataframe thead th {\n",
       "        text-align: right;\n",
       "    }\n",
       "</style>\n",
       "<table border=\"1\" class=\"dataframe\">\n",
       "  <thead>\n",
       "    <tr style=\"text-align: right;\">\n",
       "      <th></th>\n",
       "      <th>weeks_on_chart</th>\n",
       "      <th>week</th>\n",
       "      <th>danceability</th>\n",
       "      <th>energy</th>\n",
       "      <th>mode</th>\n",
       "      <th>loudness</th>\n",
       "      <th>acousticness</th>\n",
       "      <th>instrumentalness</th>\n",
       "      <th>liveness</th>\n",
       "      <th>valence</th>\n",
       "      <th>tempo</th>\n",
       "      <th>duration</th>\n",
       "    </tr>\n",
       "  </thead>\n",
       "  <tbody>\n",
       "    <tr>\n",
       "      <th>count</th>\n",
       "      <td>1.691599e+06</td>\n",
       "      <td>1691599</td>\n",
       "      <td>1.691599e+06</td>\n",
       "      <td>1.691599e+06</td>\n",
       "      <td>1.691599e+06</td>\n",
       "      <td>1.691599e+06</td>\n",
       "      <td>1.691599e+06</td>\n",
       "      <td>1.691599e+06</td>\n",
       "      <td>1.691599e+06</td>\n",
       "      <td>1.691599e+06</td>\n",
       "      <td>1.691599e+06</td>\n",
       "      <td>1.691599e+06</td>\n",
       "    </tr>\n",
       "    <tr>\n",
       "      <th>mean</th>\n",
       "      <td>3.591727e+01</td>\n",
       "      <td>2021-10-26 00:42:46.003881472</td>\n",
       "      <td>6.979214e-01</td>\n",
       "      <td>6.563172e-01</td>\n",
       "      <td>5.509273e-01</td>\n",
       "      <td>-6.193268e+00</td>\n",
       "      <td>2.543078e-01</td>\n",
       "      <td>9.625871e-03</td>\n",
       "      <td>1.694139e-01</td>\n",
       "      <td>5.546963e-01</td>\n",
       "      <td>1.220544e+02</td>\n",
       "      <td>2.115563e+02</td>\n",
       "    </tr>\n",
       "    <tr>\n",
       "      <th>min</th>\n",
       "      <td>1.000000e+00</td>\n",
       "      <td>2021-02-04 00:00:00</td>\n",
       "      <td>8.590000e-02</td>\n",
       "      <td>3.160000e-03</td>\n",
       "      <td>0.000000e+00</td>\n",
       "      <td>-4.141000e+01</td>\n",
       "      <td>1.770000e-06</td>\n",
       "      <td>0.000000e+00</td>\n",
       "      <td>1.340000e-02</td>\n",
       "      <td>1.000000e-05</td>\n",
       "      <td>3.126200e+01</td>\n",
       "      <td>3.100000e+01</td>\n",
       "    </tr>\n",
       "    <tr>\n",
       "      <th>25%</th>\n",
       "      <td>7.000000e+00</td>\n",
       "      <td>2021-06-17 00:00:00</td>\n",
       "      <td>6.120000e-01</td>\n",
       "      <td>5.570000e-01</td>\n",
       "      <td>0.000000e+00</td>\n",
       "      <td>-7.522000e+00</td>\n",
       "      <td>5.580000e-02</td>\n",
       "      <td>0.000000e+00</td>\n",
       "      <td>9.210000e-02</td>\n",
       "      <td>3.920000e-01</td>\n",
       "      <td>9.669900e+01</td>\n",
       "      <td>1.730000e+02</td>\n",
       "    </tr>\n",
       "    <tr>\n",
       "      <th>50%</th>\n",
       "      <td>2.000000e+01</td>\n",
       "      <td>2021-10-28 00:00:00</td>\n",
       "      <td>7.210000e-01</td>\n",
       "      <td>6.730000e-01</td>\n",
       "      <td>1.000000e+00</td>\n",
       "      <td>-5.865000e+00</td>\n",
       "      <td>1.820000e-01</td>\n",
       "      <td>0.000000e+00</td>\n",
       "      <td>1.180000e-01</td>\n",
       "      <td>5.610000e-01</td>\n",
       "      <td>1.199470e+02</td>\n",
       "      <td>2.020000e+02</td>\n",
       "    </tr>\n",
       "    <tr>\n",
       "      <th>75%</th>\n",
       "      <td>4.700000e+01</td>\n",
       "      <td>2022-03-10 00:00:00</td>\n",
       "      <td>7.970000e-01</td>\n",
       "      <td>7.750000e-01</td>\n",
       "      <td>1.000000e+00</td>\n",
       "      <td>-4.522000e+00</td>\n",
       "      <td>3.930000e-01</td>\n",
       "      <td>3.470000e-05</td>\n",
       "      <td>2.090000e-01</td>\n",
       "      <td>7.300000e-01</td>\n",
       "      <td>1.410660e+02</td>\n",
       "      <td>2.340000e+02</td>\n",
       "    </tr>\n",
       "    <tr>\n",
       "      <th>max</th>\n",
       "      <td>2.900000e+02</td>\n",
       "      <td>2022-07-14 00:00:00</td>\n",
       "      <td>9.860000e-01</td>\n",
       "      <td>1.000000e+00</td>\n",
       "      <td>1.000000e+00</td>\n",
       "      <td>1.906000e+00</td>\n",
       "      <td>9.950000e-01</td>\n",
       "      <td>9.900000e-01</td>\n",
       "      <td>9.900000e-01</td>\n",
       "      <td>9.920000e-01</td>\n",
       "      <td>2.320180e+02</td>\n",
       "      <td>1.787000e+03</td>\n",
       "    </tr>\n",
       "    <tr>\n",
       "      <th>std</th>\n",
       "      <td>4.312130e+01</td>\n",
       "      <td>NaN</td>\n",
       "      <td>1.319994e-01</td>\n",
       "      <td>1.564129e-01</td>\n",
       "      <td>4.973998e-01</td>\n",
       "      <td>2.393214e+00</td>\n",
       "      <td>2.377675e-01</td>\n",
       "      <td>6.841016e-02</td>\n",
       "      <td>1.265433e-01</td>\n",
       "      <td>2.224002e-01</td>\n",
       "      <td>3.018891e+01</td>\n",
       "      <td>5.868089e+01</td>\n",
       "    </tr>\n",
       "  </tbody>\n",
       "</table>\n",
       "</div>"
      ],
      "text/plain": [
       "       weeks_on_chart                           week  danceability  \\\n",
       "count    1.691599e+06                        1691599  1.691599e+06   \n",
       "mean     3.591727e+01  2021-10-26 00:42:46.003881472  6.979214e-01   \n",
       "min      1.000000e+00            2021-02-04 00:00:00  8.590000e-02   \n",
       "25%      7.000000e+00            2021-06-17 00:00:00  6.120000e-01   \n",
       "50%      2.000000e+01            2021-10-28 00:00:00  7.210000e-01   \n",
       "75%      4.700000e+01            2022-03-10 00:00:00  7.970000e-01   \n",
       "max      2.900000e+02            2022-07-14 00:00:00  9.860000e-01   \n",
       "std      4.312130e+01                            NaN  1.319994e-01   \n",
       "\n",
       "             energy          mode      loudness  acousticness  \\\n",
       "count  1.691599e+06  1.691599e+06  1.691599e+06  1.691599e+06   \n",
       "mean   6.563172e-01  5.509273e-01 -6.193268e+00  2.543078e-01   \n",
       "min    3.160000e-03  0.000000e+00 -4.141000e+01  1.770000e-06   \n",
       "25%    5.570000e-01  0.000000e+00 -7.522000e+00  5.580000e-02   \n",
       "50%    6.730000e-01  1.000000e+00 -5.865000e+00  1.820000e-01   \n",
       "75%    7.750000e-01  1.000000e+00 -4.522000e+00  3.930000e-01   \n",
       "max    1.000000e+00  1.000000e+00  1.906000e+00  9.950000e-01   \n",
       "std    1.564129e-01  4.973998e-01  2.393214e+00  2.377675e-01   \n",
       "\n",
       "       instrumentalness      liveness       valence         tempo  \\\n",
       "count      1.691599e+06  1.691599e+06  1.691599e+06  1.691599e+06   \n",
       "mean       9.625871e-03  1.694139e-01  5.546963e-01  1.220544e+02   \n",
       "min        0.000000e+00  1.340000e-02  1.000000e-05  3.126200e+01   \n",
       "25%        0.000000e+00  9.210000e-02  3.920000e-01  9.669900e+01   \n",
       "50%        0.000000e+00  1.180000e-01  5.610000e-01  1.199470e+02   \n",
       "75%        3.470000e-05  2.090000e-01  7.300000e-01  1.410660e+02   \n",
       "max        9.900000e-01  9.900000e-01  9.920000e-01  2.320180e+02   \n",
       "std        6.841016e-02  1.265433e-01  2.224002e-01  3.018891e+01   \n",
       "\n",
       "           duration  \n",
       "count  1.691599e+06  \n",
       "mean   2.115563e+02  \n",
       "min    3.100000e+01  \n",
       "25%    1.730000e+02  \n",
       "50%    2.020000e+02  \n",
       "75%    2.340000e+02  \n",
       "max    1.787000e+03  \n",
       "std    5.868089e+01  "
      ]
     },
     "execution_count": 34,
     "metadata": {},
     "output_type": "execute_result"
    }
   ],
   "source": [
    "df_spotify.describe()"
   ]
  },
  {
   "cell_type": "markdown",
   "id": "4a1e46f0-121d-4a76-93a9-9cd0012236a8",
   "metadata": {
    "tags": []
   },
   "source": [
    "_From my experience and musicological knowledge there are only 2 values that stand out. **Max duration of \"1.787030e+06\"** and **max loudness of \"1.906000\"**_"
   ]
  },
  {
   "cell_type": "code",
   "execution_count": null,
   "id": "746f6d3d-8975-4258-a25b-e0f48ddc5df8",
   "metadata": {
    "tags": []
   },
   "outputs": [],
   "source": [
    "# check for songs with unusual duration\n",
    "\n",
    "df_spotify[df_spotify['duration']>1.00e+03]"
   ]
  },
  {
   "cell_type": "code",
   "execution_count": null,
   "id": "67030545-9526-4f54-a551-9daa16e3484a",
   "metadata": {
    "tags": []
   },
   "outputs": [],
   "source": [
    "# check for songs with more than 0db loudness\n",
    "\n",
    "df_spotify[df_spotify['loudness']>=0]\n"
   ]
  },
  {
   "cell_type": "markdown",
   "id": "619b0bce-08bf-4406-b458-3f9ecfb26f8e",
   "metadata": {},
   "source": [
    "For the loudness, Spotify automatically corrects the loudness to 0. But it is possible that artists sent their songs with a loudness higher than 0db. \n",
    "I will leave these values in my analysis. \n",
    "all other columns look normal. \n",
    "\n",
    "232 bpm for the tempo as the maximum is not unusual. 30 bpm in the tempo belongs to a classical soundtrack score. Also possible. \n",
    "\n",
    "The song with the unusual duration is included in the Spotify database with 29 minutes and 49 seconds. https://open.spotify.com/track/1atrCmFrGEN5QvjoEWFRHo"
   ]
  },
  {
   "cell_type": "markdown",
   "id": "4575c775-1060-4acd-abda-9bcd1467bebe",
   "metadata": {},
   "source": [
    "### 3. Data preparation"
   ]
  },
  {
   "cell_type": "markdown",
   "id": "365b96e5-348d-431c-a0ea-c9fc0db86f81",
   "metadata": {},
   "source": [
    "A choropleth map could solve some of my previous ideas about music being mostly in major or minor depending on their country. This could be done by averaging all the songs from a country.\n",
    "\n",
    "The same could be done with tempo, duration, energy, danceability, and many other values.\n",
    "\n",
    "2 variations could be done: \n",
    "\n",
    "    -Getting that result by considering repeated entries (a song can last longer in the charts thus have more entries) \n",
    "\n",
    "    -Or using unique values per song per country. Songs may be repeated but only if they are from different country charts. \n",
    "\n",
    "I created both dataframes just in case. "
   ]
  },
  {
   "cell_type": "markdown",
   "id": "91778cb5-336e-4bb8-a2d6-44472fed7cbd",
   "metadata": {},
   "source": [
    "### Creating copies\n",
    "\n",
    "**df_spotify_uniques** is made so I can eliminate duplicates made on a weekly basis. Therefore I removed the date columns. One combination of song and country possible\n",
    "\n",
    "**df_spotify_repeated** has songs that stayed in the charts. Repeated entries are allowed. "
   ]
  },
  {
   "cell_type": "code",
   "execution_count": null,
   "id": "b8453a11-ce4c-4bd8-bf2d-05f2ca9ee145",
   "metadata": {
    "tags": []
   },
   "outputs": [],
   "source": [
    "df_spotify.columns"
   ]
  },
  {
   "cell_type": "code",
   "execution_count": null,
   "id": "39cf8569-a48d-4b39-a786-776a9275cfda",
   "metadata": {},
   "outputs": [],
   "source": [
    "# Create copy for each case\n",
    "df_spotify_uniques = df_spotify[['uri', 'country', 'danceability', 'energy', 'mode', 'loudness',\n",
    "                                 'acousticness', 'instrumentalness', 'liveness', 'valence', 'tempo',\n",
    "                                 'duration']].copy()\n",
    "\n",
    "df_spotify_repeated = df_spotify[['uri', 'country', 'week', 'danceability', 'energy', 'mode',\n",
    "                                  'loudness', 'acousticness', 'instrumentalness', 'liveness', 'valence',\n",
    "                                  'tempo', 'duration']].copy()\n",
    "\n"
   ]
  },
  {
   "cell_type": "code",
   "execution_count": null,
   "id": "3e0a60ec-1973-40b6-8927-1a95b9e8cfd0",
   "metadata": {
    "tags": []
   },
   "outputs": [],
   "source": [
    "df_spotify_uniques.head(3)"
   ]
  },
  {
   "cell_type": "code",
   "execution_count": null,
   "id": "b18a6bda-2d93-4414-acf7-c8bbbb7aacfa",
   "metadata": {
    "tags": []
   },
   "outputs": [],
   "source": [
    "df_spotify_repeated.head(3)"
   ]
  },
  {
   "cell_type": "markdown",
   "id": "66a02ead-8157-4367-ba78-2f4b32f9a1e0",
   "metadata": {},
   "source": [
    "### **\"Uniques\" Dataset**"
   ]
  },
  {
   "cell_type": "code",
   "execution_count": null,
   "id": "9bae835a-d2bf-4df3-ad84-1a275e3f14b1",
   "metadata": {},
   "outputs": [],
   "source": [
    "# drop duplicates\n",
    "df_spotify_uniques.drop_duplicates(inplace=True)"
   ]
  },
  {
   "cell_type": "code",
   "execution_count": null,
   "id": "657d1169-c8f5-4707-8fc1-e33d7627fc01",
   "metadata": {},
   "outputs": [],
   "source": [
    "# Check \"uniqueness\" was achieved\n",
    "df_spotify_uniques[df_spotify_uniques['uri'] == 'spotify:track:2x8oBuYaObjqHqgGuIUZ0b']"
   ]
  },
  {
   "cell_type": "markdown",
   "id": "8a1eb688-6280-43ae-a745-6ae62736000e",
   "metadata": {},
   "source": [
    "##### **Creating Averages**"
   ]
  },
  {
   "cell_type": "code",
   "execution_count": null,
   "id": "3ff7db11-3beb-4c24-829e-9bdc282bd614",
   "metadata": {},
   "outputs": [],
   "source": [
    "# Create average for danceability .... duration\n",
    "df_spotify_uniques['average_danceability'] = df_spotify_uniques.groupby(['country'])['danceability'].transform('mean')\n",
    "df_spotify_uniques['average_energy'] = df_spotify_uniques.groupby(['country'])['energy'].transform('mean')\n",
    "df_spotify_uniques['average_mode'] = df_spotify_uniques.groupby(['country'])['mode'].transform('mean')\n",
    "df_spotify_uniques['average_loudness'] = df_spotify_uniques.groupby(['country'])['loudness'].transform('mean')\n",
    "df_spotify_uniques['average_acousticness'] = df_spotify_uniques.groupby(['country'])['acousticness'].transform('mean')\n",
    "df_spotify_uniques['average_instrumentalness'] = df_spotify_uniques.groupby(['country'])['instrumentalness'].transform('mean')\n",
    "df_spotify_uniques['average_liveness'] = df_spotify_uniques.groupby(['country'])['liveness'].transform('mean')\n",
    "df_spotify_uniques['average_valence'] = df_spotify_uniques.groupby(['country'])['valence'].transform('mean')\n",
    "df_spotify_uniques['average_tempo'] = df_spotify_uniques.groupby(['country'])['tempo'].transform('mean')\n",
    "df_spotify_uniques['average_duration'] = df_spotify_uniques.groupby(['country'])['duration'].transform('mean')\n",
    "\n",
    "\n",
    "#sample to check values\n",
    "\n",
    "df_spotify_uniques.sample(n=10)"
   ]
  },
  {
   "cell_type": "markdown",
   "id": "520fb5ff-6c52-47a3-9a45-fbd7a99ecde6",
   "metadata": {},
   "source": [
    "### **\"Repeated\" Dataset**"
   ]
  },
  {
   "cell_type": "markdown",
   "id": "e670dcad-791f-4e58-bd0a-113474b8ea2d",
   "metadata": {},
   "source": [
    "##### **Creating averages** "
   ]
  },
  {
   "cell_type": "code",
   "execution_count": null,
   "id": "d01f0437-5420-4aa6-b0e3-fa223c0c67f7",
   "metadata": {},
   "outputs": [],
   "source": [
    "# Create average for danceability .... duration\n",
    "df_spotify_repeated['average_danceability'] = df_spotify_repeated.groupby(['country'])['danceability'].transform('mean')\n",
    "df_spotify_repeated['average_energy'] = df_spotify_repeated.groupby(['country'])['energy'].transform('mean')\n",
    "df_spotify_repeated['average_mode'] = df_spotify_repeated.groupby(['country'])['mode'].transform('mean')\n",
    "df_spotify_repeated['average_loudness'] = df_spotify_repeated.groupby(['country'])['loudness'].transform('mean')\n",
    "df_spotify_repeated['average_acousticness'] = df_spotify_repeated.groupby(['country'])['acousticness'].transform('mean')\n",
    "df_spotify_repeated['average_instrumentalness'] = df_spotify_repeated.groupby(['country'])['instrumentalness'].transform('mean')\n",
    "df_spotify_repeated['average_liveness'] = df_spotify_repeated.groupby(['country'])['liveness'].transform('mean')\n",
    "df_spotify_repeated['average_valence'] = df_spotify_repeated.groupby(['country'])['valence'].transform('mean')\n",
    "df_spotify_repeated['average_tempo'] = df_spotify_repeated.groupby(['country'])['tempo'].transform('mean')\n",
    "df_spotify_repeated['average_duration'] = df_spotify_repeated.groupby(['country'])['duration'].transform('mean')\n",
    "\n",
    "\n",
    "#sample to check values\n",
    "\n",
    "df_spotify_repeated.sample(n=10)"
   ]
  },
  {
   "cell_type": "markdown",
   "id": "1f95999f-e991-4f0f-9e04-636d2010a25d",
   "metadata": {},
   "source": [
    "### 4. Plotting a choropleth"
   ]
  },
  {
   "cell_type": "code",
   "execution_count": null,
   "id": "c78f356a-0ab4-4e37-873a-b566ac4642ae",
   "metadata": {},
   "outputs": [],
   "source": [
    "# Create a data frame with just the states and the values for rating we want plotted\n",
    "\n",
    "data_to_plot = df_spotify_uniques[['country','average_tempo', 'average_mode', 'average_danceability', 'average_duration', 'average_energy']]\n",
    "\n",
    "# sample\n",
    "data_to_plot.sample(n=5)"
   ]
  },
  {
   "cell_type": "markdown",
   "id": "9dd2d34c-7ea4-498a-ad8a-be62a9bff259",
   "metadata": {},
   "source": [
    "##### **Filtering the GeoJSON to only display the countries in my dataset**"
   ]
  },
  {
   "cell_type": "code",
   "execution_count": null,
   "id": "f75a7f99-07c6-45b7-9224-432ca3876a19",
   "metadata": {
    "tags": []
   },
   "outputs": [],
   "source": [
    "# Create a set of countries from your DataFrame\n",
    "country_list = set(df_spotify_uniques['country'])\n",
    "\n",
    "# Filter the GeoJSON features\n",
    "filtered_features = [feature for feature in country_json['features'] \n",
    "                     if feature['properties']['name'] in country_list]\n"
   ]
  },
  {
   "cell_type": "code",
   "execution_count": null,
   "id": "b5482bb6-b663-4e29-a5d7-208f60e48de0",
   "metadata": {
    "tags": []
   },
   "outputs": [],
   "source": [
    "# Create a new GeoJSON object with filtered features\n",
    "filtered_geojson = {\n",
    "    'type': 'FeatureCollection',\n",
    "    'features': filtered_features\n",
    "}"
   ]
  },
  {
   "cell_type": "markdown",
   "id": "80346569-d3c9-47cb-b187-effc4eeb1b0b",
   "metadata": {},
   "source": [
    "### **Tempo Choropleth**"
   ]
  },
  {
   "cell_type": "code",
   "execution_count": null,
   "id": "031c604d-6c00-4c32-a13c-f7299edd7267",
   "metadata": {},
   "outputs": [],
   "source": [
    "# Setup a folium map at a high-level zoom\n",
    "tempo_map = folium.Map(location = [0, 0], zoom_start = 2.4)\n",
    "\n",
    "# Choropleth maps bind Pandas Data Frames and json geometries.This allows us to quickly visualize data combinations\n",
    "folium.Choropleth(\n",
    "    geo_data = filtered_geojson, \n",
    "    data = data_to_plot,\n",
    "    columns = ['country', 'average_tempo'],\n",
    "    key_on = 'feature.properties.name', # this part is very important - check your json file to see where the KEY is located\n",
    "    fill_color = 'YlOrRd', fill_opacity=0.6, line_opacity=0.1,\n",
    "    legend_name = \"Tempo: Red means faster music\").add_to(tempo_map)\n",
    "folium.LayerControl().add_to(tempo_map)\n",
    "\n",
    "\n",
    "tempo_map"
   ]
  },
  {
   "cell_type": "markdown",
   "id": "73849b81-4b63-44a0-9ced-78608da4c86a",
   "metadata": {},
   "source": [
    "The above map shows how the average tempo of charts is different depending on what country we are looking at. \n",
    "\n",
    "Audiences all over the world prefer different types of content.\n",
    "\n",
    "**High tempo**\n",
    "\n",
    "Brazil seems to have more preference to faster tempos in the music that reaches the charts. \n",
    "\n",
    "It is followed by France, Poland, Bulgaria, Romania and Japan. \n",
    "\n",
    "\n",
    "**Low tempo** \n",
    "\n",
    "India, Pakistan, Nigeria, South Africa and Sweden have a preference for songs with slower tempos. "
   ]
  },
  {
   "cell_type": "markdown",
   "id": "7cb5093a-da42-4225-8ee6-069cfa8d0a1d",
   "metadata": {
    "tags": []
   },
   "source": [
    "### **Mode Choropleth (major vs. minor)**"
   ]
  },
  {
   "cell_type": "code",
   "execution_count": null,
   "id": "3ccb7c4c-8121-4e77-9bd2-85e54e824808",
   "metadata": {},
   "outputs": [],
   "source": [
    "# Setup a folium map at a high-level zoom\n",
    "mode_map = folium.Map(location = [0, 0], zoom_start = 2.4)\n",
    "\n",
    "# Choropleth maps bind Pandas Data Frames and json geometries.This allows us to quickly visualize data combinations\n",
    "folium.Choropleth(\n",
    "    geo_data = filtered_geojson, \n",
    "    data = data_to_plot,\n",
    "    columns = ['country', 'average_mode'],\n",
    "    key_on = 'feature.properties.name', # this part is very important - check your json file to see where the KEY is located\n",
    "    fill_color = 'PRGn', fill_opacity=0.6, line_opacity=0.1,\n",
    "    legend_name = \"Mode: Purple means minor key, Green is major key\").add_to(mode_map)\n",
    "folium.LayerControl().add_to(mode_map)\n",
    "\n",
    "mode_map"
   ]
  },
  {
   "cell_type": "markdown",
   "id": "b21bb13b-4986-483c-b370-0583b2f64020",
   "metadata": {},
   "source": [
    "In this dataset, a value of 1 represents that a song is in the major key. A value of 0 means that the song is in the minor key.\n",
    "\n",
    "By averaging these values for each countries we can see how much each country is \"pulled\" into a certain key. \n",
    "\n",
    "Minor is represented by purple which is usually also a melancholic sad color. \n",
    "\n",
    "Major is represented by green which is an optimistic and \"happier\" color. \n",
    "\n",
    "One can notice that the center of the map is mostly minor, while the \"outer\" countries are major. \n",
    "\n",
    "**Minor**\n",
    "\n",
    "The clearest preference for the minor mode are in France and and Turkey. Followed by Egypt and Morroco. \n",
    "\n",
    "**Major**\n",
    "\n",
    "The clearest preference for the major mode are in Thailand, Indonesia, Phillipines and Japan. Followed by Australia, New Zealand, Canada, Vietnam, and Ireland"
   ]
  },
  {
   "cell_type": "markdown",
   "id": "ca154acd-2d55-4d0d-a1db-9cfc4efc5d4d",
   "metadata": {},
   "source": [
    "### Conclusion"
   ]
  },
  {
   "cell_type": "markdown",
   "id": "a964eb0e-7c2b-4c5d-b19a-554915d5dae5",
   "metadata": {},
   "source": [
    "This type of geographical analysis has given several insights on different preferences for spotify charts.\n",
    "\n",
    "One should take in account that maybe the general trend of music falls into the findings of these maps and not neccesarily that songs with such characteristics will be charts.\n",
    "\n",
    "Further analysis is needed with different variables and maybe use the repeated values since this analysis only considered the unique values. "
   ]
  },
  {
   "cell_type": "markdown",
   "id": "2f60a9cb-9a3f-432a-a910-eb89254dd5a3",
   "metadata": {},
   "source": [
    "### Duration"
   ]
  },
  {
   "cell_type": "code",
   "execution_count": null,
   "id": "04628182-e7ae-4a12-93ca-215ec1837d69",
   "metadata": {
    "tags": []
   },
   "outputs": [],
   "source": [
    "# Setup a folium map at a high-level zoom\n",
    "duration_map = folium.Map(location = [0, 0], zoom_start = 2.4)\n",
    "\n",
    "# Choropleth maps bind Pandas Data Frames and json geometries.This allows us to quickly visualize data combinations\n",
    "folium.Choropleth(\n",
    "    geo_data = filtered_geojson, \n",
    "    data = data_to_plot,\n",
    "    columns = ['country', 'average_duration'],\n",
    "    key_on = 'feature.properties.name', # this part is very important - check your json file to see where the KEY is located\n",
    "    fill_color = 'PRGn', fill_opacity=0.6, line_opacity=0.1,\n",
    "    legend_name = \"Duration in ms\").add_to(duration_map)\n",
    "folium.LayerControl().add_to(duration_map)\n",
    "\n",
    "duration_map"
   ]
  },
  {
   "cell_type": "markdown",
   "id": "03ec417a-04b0-4895-8ecc-3aeafdd809ae",
   "metadata": {},
   "source": [
    "### Danceability"
   ]
  },
  {
   "cell_type": "code",
   "execution_count": null,
   "id": "3f61ef4d-4f62-4adc-8d63-c02e76206701",
   "metadata": {
    "tags": []
   },
   "outputs": [],
   "source": [
    "# Setup a folium map at a high-level zoom\n",
    "danceability_map = folium.Map(location = [0, 0], zoom_start = 2.4)\n",
    "\n",
    "# Choropleth maps bind Pandas Data Frames and json geometries.This allows us to quickly visualize data combinations\n",
    "folium.Choropleth(\n",
    "    geo_data = filtered_geojson, \n",
    "    data = data_to_plot,\n",
    "    columns = ['country', 'average_danceability'],\n",
    "    key_on = 'feature.properties.name', # this part is very important - check your json file to see where the KEY is located\n",
    "    fill_color = 'PRGn', fill_opacity=0.6, line_opacity=0.1,\n",
    "    legend_name = \"Duration in ms\").add_to(danceability_map)\n",
    "folium.LayerControl().add_to(duration_map)\n",
    "\n",
    "danceability_map"
   ]
  },
  {
   "cell_type": "code",
   "execution_count": null,
   "id": "1b5ae803-b85f-48a8-a213-328ada2a2f2f",
   "metadata": {},
   "outputs": [],
   "source": []
  }
 ],
 "metadata": {
  "kernelspec": {
   "display_name": "Python 3 (ipykernel)",
   "language": "python",
   "name": "python3"
  },
  "language_info": {
   "codemirror_mode": {
    "name": "ipython",
    "version": 3
   },
   "file_extension": ".py",
   "mimetype": "text/x-python",
   "name": "python",
   "nbconvert_exporter": "python",
   "pygments_lexer": "ipython3",
   "version": "3.11.7"
  }
 },
 "nbformat": 4,
 "nbformat_minor": 5
}
