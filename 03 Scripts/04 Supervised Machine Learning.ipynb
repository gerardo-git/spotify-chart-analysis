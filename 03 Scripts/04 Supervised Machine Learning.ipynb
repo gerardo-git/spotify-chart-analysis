{
 "cells": [
  {
   "cell_type": "markdown",
   "id": "0966e3ed-551e-4e0a-aafd-cc54861e24fd",
   "metadata": {},
   "source": [
    "# Supervised Machine Learning: Regression"
   ]
  },
  {
   "cell_type": "markdown",
   "id": "0eb38ab8-e094-4bf3-a9dd-6f093b8b6b2e",
   "metadata": {},
   "source": [
    "### This script contains the following:\n",
    "\n",
    "#### 1. Importing libraries and data\n",
    "#### 2. Data cleaning\n",
    "#### 3. Data prep for regression analysis\n",
    "#### 4. Regression analysis\n"
   ]
  },
  {
   "cell_type": "markdown",
   "id": "8384e295-8ca2-49e7-810e-6f6aeb570719",
   "metadata": {},
   "source": [
    "### 1. Importing libraries and data"
   ]
  },
  {
   "cell_type": "code",
   "execution_count": 72,
   "id": "77ba61c2-98ae-4ca2-a644-6c7a92739c8c",
   "metadata": {
    "tags": []
   },
   "outputs": [],
   "source": [
    "import pandas as pd\n",
    "import numpy as np\n",
    "import seaborn as sns\n",
    "import matplotlib\n",
    "import matplotlib.pyplot as plt\n",
    "import os\n",
    "import sklearn\n",
    "from sklearn.model_selection import train_test_split \n",
    "from sklearn.linear_model import LinearRegression\n",
    "from sklearn.metrics import mean_squared_error, r2_score"
   ]
  },
  {
   "cell_type": "code",
   "execution_count": 73,
   "id": "4b95aa58-16d0-4047-9ee3-f3e4bd05afcc",
   "metadata": {
    "tags": []
   },
   "outputs": [],
   "source": [
    "# Show plots directly in the Jupyter notebook\n",
    "\n",
    "%matplotlib inline\n",
    "\n",
    "# Column display options\n",
    "\n",
    "pd.options.display.max_columns = 50"
   ]
  },
  {
   "cell_type": "code",
   "execution_count": 74,
   "id": "d90dfe55-a3cf-4e30-9a7e-5fded2d471b4",
   "metadata": {
    "tags": []
   },
   "outputs": [
    {
     "data": {
      "text/html": [
       "<div>\n",
       "<style scoped>\n",
       "    .dataframe tbody tr th:only-of-type {\n",
       "        vertical-align: middle;\n",
       "    }\n",
       "\n",
       "    .dataframe tbody tr th {\n",
       "        vertical-align: top;\n",
       "    }\n",
       "\n",
       "    .dataframe thead th {\n",
       "        text-align: right;\n",
       "    }\n",
       "</style>\n",
       "<table border=\"1\" class=\"dataframe\">\n",
       "  <thead>\n",
       "    <tr style=\"text-align: right;\">\n",
       "      <th></th>\n",
       "      <th>uri</th>\n",
       "      <th>rank</th>\n",
       "      <th>artist_names</th>\n",
       "      <th>artists_num</th>\n",
       "      <th>artist_individual</th>\n",
       "      <th>artist_id</th>\n",
       "      <th>artist_genre</th>\n",
       "      <th>collab</th>\n",
       "      <th>track_name</th>\n",
       "      <th>album_num_tracks</th>\n",
       "      <th>peak_rank</th>\n",
       "      <th>previous_rank</th>\n",
       "      <th>weeks_on_chart</th>\n",
       "      <th>streams</th>\n",
       "      <th>week</th>\n",
       "      <th>danceability</th>\n",
       "      <th>energy</th>\n",
       "      <th>key</th>\n",
       "      <th>mode</th>\n",
       "      <th>loudness</th>\n",
       "      <th>speechiness</th>\n",
       "      <th>acousticness</th>\n",
       "      <th>instrumentalness</th>\n",
       "      <th>liveness</th>\n",
       "      <th>valence</th>\n",
       "      <th>tempo</th>\n",
       "      <th>duration</th>\n",
       "      <th>country</th>\n",
       "      <th>region</th>\n",
       "      <th>language</th>\n",
       "      <th>pivot</th>\n",
       "    </tr>\n",
       "  </thead>\n",
       "  <tbody>\n",
       "    <tr>\n",
       "      <th>1414798</th>\n",
       "      <td>spotify:track:5dXWFMwD7I7zXsInONVl0H</td>\n",
       "      <td>192</td>\n",
       "      <td>SZA</td>\n",
       "      <td>1.0</td>\n",
       "      <td>SZA</td>\n",
       "      <td>spotify:artist:7tYKF4w9nC0nq9CsPZTHyP</td>\n",
       "      <td>r&amp;b</td>\n",
       "      <td>0</td>\n",
       "      <td>I Hate U</td>\n",
       "      <td>1.0</td>\n",
       "      <td>76</td>\n",
       "      <td>-1</td>\n",
       "      <td>7</td>\n",
       "      <td>12848</td>\n",
       "      <td>2022-03-03</td>\n",
       "      <td>0.535</td>\n",
       "      <td>0.388</td>\n",
       "      <td>7.0</td>\n",
       "      <td>0.0</td>\n",
       "      <td>-9.805</td>\n",
       "      <td>0.1550</td>\n",
       "      <td>0.507000</td>\n",
       "      <td>0.000000</td>\n",
       "      <td>0.1100</td>\n",
       "      <td>0.412</td>\n",
       "      <td>106.703</td>\n",
       "      <td>174000.0</td>\n",
       "      <td>Saudi Arabia</td>\n",
       "      <td>Middle East</td>\n",
       "      <td>Arabic</td>\n",
       "      <td>0</td>\n",
       "    </tr>\n",
       "    <tr>\n",
       "      <th>1685793</th>\n",
       "      <td>spotify:track:0pJQI29n8ZfWTTUWn6Ncvb</td>\n",
       "      <td>104</td>\n",
       "      <td>Pornofilmy</td>\n",
       "      <td>1.0</td>\n",
       "      <td>Pornofilmy</td>\n",
       "      <td>spotify:artist:47jBQjRmURjRn3XfLIaHvV</td>\n",
       "      <td>russian alt pop</td>\n",
       "      <td>0</td>\n",
       "      <td>Я так соскучился</td>\n",
       "      <td>14.0</td>\n",
       "      <td>56</td>\n",
       "      <td>102</td>\n",
       "      <td>51</td>\n",
       "      <td>35877</td>\n",
       "      <td>2021-12-02</td>\n",
       "      <td>0.326</td>\n",
       "      <td>0.796</td>\n",
       "      <td>9.0</td>\n",
       "      <td>0.0</td>\n",
       "      <td>-4.976</td>\n",
       "      <td>0.0430</td>\n",
       "      <td>0.000584</td>\n",
       "      <td>0.002550</td>\n",
       "      <td>0.0898</td>\n",
       "      <td>0.182</td>\n",
       "      <td>101.507</td>\n",
       "      <td>408875.0</td>\n",
       "      <td>Ukraine</td>\n",
       "      <td>Europe</td>\n",
       "      <td>Ukrainian</td>\n",
       "      <td>0</td>\n",
       "    </tr>\n",
       "    <tr>\n",
       "      <th>690308</th>\n",
       "      <td>spotify:track:3J8EOeKLTLXORtWPpOU5bE</td>\n",
       "      <td>83</td>\n",
       "      <td>Lil Tjay, 6LACK</td>\n",
       "      <td>2.0</td>\n",
       "      <td>6LACK</td>\n",
       "      <td>spotify:artist:4IVAbR2w4JJNJDDRFP3E83</td>\n",
       "      <td>trap</td>\n",
       "      <td>1</td>\n",
       "      <td>Calling My Phone</td>\n",
       "      <td>21.0</td>\n",
       "      <td>4</td>\n",
       "      <td>69</td>\n",
       "      <td>11</td>\n",
       "      <td>40535</td>\n",
       "      <td>2021-04-29</td>\n",
       "      <td>0.907</td>\n",
       "      <td>0.393</td>\n",
       "      <td>4.0</td>\n",
       "      <td>0.0</td>\n",
       "      <td>-7.636</td>\n",
       "      <td>0.0539</td>\n",
       "      <td>0.451000</td>\n",
       "      <td>0.000001</td>\n",
       "      <td>0.1350</td>\n",
       "      <td>0.202</td>\n",
       "      <td>104.949</td>\n",
       "      <td>205458.0</td>\n",
       "      <td>Greece</td>\n",
       "      <td>Europe</td>\n",
       "      <td>Greek</td>\n",
       "      <td>1</td>\n",
       "    </tr>\n",
       "    <tr>\n",
       "      <th>1679870</th>\n",
       "      <td>spotify:track:22skzmqfdWrjJylampe0kt</td>\n",
       "      <td>195</td>\n",
       "      <td>Macklemore &amp; Ryan Lewis, Macklemore, Ryan Lewi...</td>\n",
       "      <td>4.0</td>\n",
       "      <td>Ray Dalton</td>\n",
       "      <td>spotify:artist:4e0nWw2r4BoQSKPQ2zpU13</td>\n",
       "      <td>0</td>\n",
       "      <td>1</td>\n",
       "      <td>Can't Hold Us (feat. Ray Dalton)</td>\n",
       "      <td>15.0</td>\n",
       "      <td>98</td>\n",
       "      <td>197</td>\n",
       "      <td>126</td>\n",
       "      <td>371898</td>\n",
       "      <td>2022-02-10</td>\n",
       "      <td>0.633</td>\n",
       "      <td>0.927</td>\n",
       "      <td>2.0</td>\n",
       "      <td>1.0</td>\n",
       "      <td>-4.468</td>\n",
       "      <td>0.0839</td>\n",
       "      <td>0.026700</td>\n",
       "      <td>0.000000</td>\n",
       "      <td>0.0986</td>\n",
       "      <td>0.880</td>\n",
       "      <td>146.097</td>\n",
       "      <td>258432.0</td>\n",
       "      <td>United Kingdom</td>\n",
       "      <td>Europe</td>\n",
       "      <td>English</td>\n",
       "      <td>1</td>\n",
       "    </tr>\n",
       "    <tr>\n",
       "      <th>943576</th>\n",
       "      <td>spotify:track:6IO5nn84TKArsi3cjpIqaD</td>\n",
       "      <td>32</td>\n",
       "      <td>Ryokuoushoku Shakai</td>\n",
       "      <td>1.0</td>\n",
       "      <td>Ryokuoushoku Shakai</td>\n",
       "      <td>spotify:artist:4SJ7qRgJYNXB9Yttzs4aSa</td>\n",
       "      <td>j-pop</td>\n",
       "      <td>0</td>\n",
       "      <td>Mela!</td>\n",
       "      <td>1.0</td>\n",
       "      <td>22</td>\n",
       "      <td>33</td>\n",
       "      <td>111</td>\n",
       "      <td>793413</td>\n",
       "      <td>2022-06-09</td>\n",
       "      <td>0.619</td>\n",
       "      <td>0.941</td>\n",
       "      <td>8.0</td>\n",
       "      <td>1.0</td>\n",
       "      <td>-1.618</td>\n",
       "      <td>0.0584</td>\n",
       "      <td>0.043900</td>\n",
       "      <td>0.000017</td>\n",
       "      <td>0.3180</td>\n",
       "      <td>0.624</td>\n",
       "      <td>137.967</td>\n",
       "      <td>242067.0</td>\n",
       "      <td>Japan</td>\n",
       "      <td>Asia</td>\n",
       "      <td>Japanese</td>\n",
       "      <td>0</td>\n",
       "    </tr>\n",
       "  </tbody>\n",
       "</table>\n",
       "</div>"
      ],
      "text/plain": [
       "                                          uri  rank  \\\n",
       "1414798  spotify:track:5dXWFMwD7I7zXsInONVl0H   192   \n",
       "1685793  spotify:track:0pJQI29n8ZfWTTUWn6Ncvb   104   \n",
       "690308   spotify:track:3J8EOeKLTLXORtWPpOU5bE    83   \n",
       "1679870  spotify:track:22skzmqfdWrjJylampe0kt   195   \n",
       "943576   spotify:track:6IO5nn84TKArsi3cjpIqaD    32   \n",
       "\n",
       "                                              artist_names  artists_num  \\\n",
       "1414798                                                SZA          1.0   \n",
       "1685793                                         Pornofilmy          1.0   \n",
       "690308                                     Lil Tjay, 6LACK          2.0   \n",
       "1679870  Macklemore & Ryan Lewis, Macklemore, Ryan Lewi...          4.0   \n",
       "943576                                 Ryokuoushoku Shakai          1.0   \n",
       "\n",
       "           artist_individual                              artist_id  \\\n",
       "1414798                  SZA  spotify:artist:7tYKF4w9nC0nq9CsPZTHyP   \n",
       "1685793           Pornofilmy  spotify:artist:47jBQjRmURjRn3XfLIaHvV   \n",
       "690308                 6LACK  spotify:artist:4IVAbR2w4JJNJDDRFP3E83   \n",
       "1679870           Ray Dalton  spotify:artist:4e0nWw2r4BoQSKPQ2zpU13   \n",
       "943576   Ryokuoushoku Shakai  spotify:artist:4SJ7qRgJYNXB9Yttzs4aSa   \n",
       "\n",
       "            artist_genre  collab                        track_name  \\\n",
       "1414798              r&b       0                          I Hate U   \n",
       "1685793  russian alt pop       0                  Я так соскучился   \n",
       "690308              trap       1                  Calling My Phone   \n",
       "1679870                0       1  Can't Hold Us (feat. Ray Dalton)   \n",
       "943576             j-pop       0                             Mela!   \n",
       "\n",
       "         album_num_tracks  peak_rank  previous_rank  weeks_on_chart  streams  \\\n",
       "1414798               1.0         76             -1               7    12848   \n",
       "1685793              14.0         56            102              51    35877   \n",
       "690308               21.0          4             69              11    40535   \n",
       "1679870              15.0         98            197             126   371898   \n",
       "943576                1.0         22             33             111   793413   \n",
       "\n",
       "              week  danceability  energy  key  mode  loudness  speechiness  \\\n",
       "1414798 2022-03-03         0.535   0.388  7.0   0.0    -9.805       0.1550   \n",
       "1685793 2021-12-02         0.326   0.796  9.0   0.0    -4.976       0.0430   \n",
       "690308  2021-04-29         0.907   0.393  4.0   0.0    -7.636       0.0539   \n",
       "1679870 2022-02-10         0.633   0.927  2.0   1.0    -4.468       0.0839   \n",
       "943576  2022-06-09         0.619   0.941  8.0   1.0    -1.618       0.0584   \n",
       "\n",
       "         acousticness  instrumentalness  liveness  valence    tempo  duration  \\\n",
       "1414798      0.507000          0.000000    0.1100    0.412  106.703  174000.0   \n",
       "1685793      0.000584          0.002550    0.0898    0.182  101.507  408875.0   \n",
       "690308       0.451000          0.000001    0.1350    0.202  104.949  205458.0   \n",
       "1679870      0.026700          0.000000    0.0986    0.880  146.097  258432.0   \n",
       "943576       0.043900          0.000017    0.3180    0.624  137.967  242067.0   \n",
       "\n",
       "                country       region   language  pivot  \n",
       "1414798    Saudi Arabia  Middle East     Arabic      0  \n",
       "1685793         Ukraine       Europe  Ukrainian      0  \n",
       "690308           Greece       Europe      Greek      1  \n",
       "1679870  United Kingdom       Europe    English      1  \n",
       "943576            Japan         Asia   Japanese      0  "
      ]
     },
     "execution_count": 74,
     "metadata": {},
     "output_type": "execute_result"
    }
   ],
   "source": [
    "# declare a data path and import data\n",
    "\n",
    "data_path = r'C:\\Users\\gerar\\CareerFoundry Python\\Spotify charts streaming analysis'\n",
    "\n",
    "df_spotify = pd.read_pickle(os.path.join(data_path, '02 Data', 'Prepared Data', 'spotify_clean_no_global.pkl'))\n",
    "\n",
    "df_spotify.sample(n=5)\n",
    "                \n",
    "\n",
    "                                    "
   ]
  },
  {
   "cell_type": "code",
   "execution_count": 75,
   "id": "7ddfef62-6239-4ac8-be77-88b655c25eec",
   "metadata": {
    "tags": []
   },
   "outputs": [
    {
     "data": {
      "image/png": "[encoded data removed]",
      "text/plain": [
       "<Figure size 640x480 with 1 Axes>"
      ]
     },
     "metadata": {},
     "output_type": "display_data"
    }
   ],
   "source": [
    "# Create a scatter plot\n",
    "df_spotify.plot(x = 'artists_num', y='danceability',style='o')\n",
    "\n",
    "# Add labels and title\n",
    "plt.xlabel('Number of artists')\n",
    "plt.ylabel('Danceability')\n",
    "plt.title('Number of artists and danceability')\n",
    "plt.show()"
   ]
  },
  {
   "cell_type": "markdown",
   "id": "581abc3f-cdca-4102-b563-7d83d6bf44e4",
   "metadata": {},
   "source": [
    "**Danceability according to the Spotify API:**\n",
    "\n",
    "\n",
    "_Danceability describes how suitable a track is for dancing based on a combination of musical elements including tempo, rhythm stability, beat strength, and overall regularity. A value of 0.0 is least danceable and 1.0 is most danceable._\n",
    "\n",
    "API: \n",
    "https://developer.spotify.com/documentation/web-api/reference/get-several-audio-features"
   ]
  },
  {
   "cell_type": "code",
   "execution_count": 77,
   "id": "054afb0c-cfe1-4543-a474-216cf4d683d6",
   "metadata": {
    "tags": []
   },
   "outputs": [
    {
     "data": {
      "image/png": "[encoded data removed]",
      "text/plain": [
       "<Figure size 640x480 with 1 Axes>"
      ]
     },
     "metadata": {},
     "output_type": "display_data"
    }
   ],
   "source": [
    "# Create a scatter plot\n",
    "df_spotify.plot(x = 'artists_num', y='duration',style='o')\n",
    "\n",
    "# Add labels and title\n",
    "plt.xlabel('Number of artists')\n",
    "plt.ylabel('Duration')\n",
    "plt.title('Number of artists and duration')\n",
    "plt.show()"
   ]
  },
  {
   "cell_type": "markdown",
   "id": "61768b45-9463-4a54-97b5-d273c5e5b289",
   "metadata": {},
   "source": [
    "In my original correlation matrix I had the following coefficients\n",
    "\n",
    "Number of artists - Danceability: 0.194239\n",
    "\n",
    "Number of artists - Duration: 0.422668\n",
    "\n",
    "Although the coefficient is higher with number of artists vs. duration and would probably deliver a better fit, I decided to use danceability because it seems to deliver a more valuable insight.\n",
    "\n",
    "It seems somewhat obvious that more artists equal longer songs since they need more time to fit more artists. \n",
    "\n",
    "\n",
    "The spotify api model that rated danceability did not consider number of artists which makes it interesting that these two variables have some correlation. "
   ]
  },
  {
   "cell_type": "code",
   "execution_count": 79,
   "id": "a47f7446-0c2b-4872-9177-f1abdeb97be8",
   "metadata": {
    "tags": []
   },
   "outputs": [],
   "source": [
    "# Reshape the variables into NumPy arrays and put them into separate objects.\n",
    "\n",
    "X = df_spotify['artists_num'].values.reshape(-1,1)\n",
    "y = df_spotify['danceability'].values.reshape(-1,1)"
   ]
  },
  {
   "cell_type": "code",
   "execution_count": 80,
   "id": "09cbc1ba-7a50-4d99-9147-be1c3e68aa41",
   "metadata": {
    "tags": []
   },
   "outputs": [],
   "source": [
    "# Split data into a training set and a test set.\n",
    "\n",
    "X_train, X_test, y_train, y_test = train_test_split(X, y, test_size=0.3, random_state=0)"
   ]
  },
  {
   "cell_type": "markdown",
   "id": "313e6aff-1e69-4b3c-9bfe-2cfdc60ed372",
   "metadata": {},
   "source": [
    "### 4. Regression analysis (danceability)"
   ]
  },
  {
   "cell_type": "code",
   "execution_count": 82,
   "id": "5748d9c5-a633-431e-8e1a-17ee4212206d",
   "metadata": {
    "tags": []
   },
   "outputs": [],
   "source": [
    "# Create a regression object.\n",
    "\n",
    "regression = LinearRegression()"
   ]
  },
  {
   "cell_type": "code",
   "execution_count": 83,
   "id": "0650de44-37b1-41c2-b8ac-40763d28ef63",
   "metadata": {
    "tags": []
   },
   "outputs": [
    {
     "data": {
      "text/html": [
       "<style>#sk-container-id-3 {color: black;background-color: white;}#sk-container-id-3 pre{padding: 0;}#sk-container-id-3 div.sk-toggleable {background-color: white;}#sk-container-id-3 label.sk-toggleable__label {cursor: pointer;display: block;width: 100%;margin-bottom: 0;padding: 0.3em;box-sizing: border-box;text-align: center;}#sk-container-id-3 label.sk-toggleable__label-arrow:before {content: \"▸\";float: left;margin-right: 0.25em;color: #696969;}#sk-container-id-3 label.sk-toggleable__label-arrow:hover:before {color: black;}#sk-container-id-3 div.sk-estimator:hover label.sk-toggleable__label-arrow:before {color: black;}#sk-container-id-3 div.sk-toggleable__content {max-height: 0;max-width: 0;overflow: hidden;text-align: left;background-color: #f0f8ff;}#sk-container-id-3 div.sk-toggleable__content pre {margin: 0.2em;color: black;border-radius: 0.25em;background-color: #f0f8ff;}#sk-container-id-3 input.sk-toggleable__control:checked~div.sk-toggleable__content {max-height: 200px;max-width: 100%;overflow: auto;}#sk-container-id-3 input.sk-toggleable__control:checked~label.sk-toggleable__label-arrow:before {content: \"▾\";}#sk-container-id-3 div.sk-estimator input.sk-toggleable__control:checked~label.sk-toggleable__label {background-color: #d4ebff;}#sk-container-id-3 div.sk-label input.sk-toggleable__control:checked~label.sk-toggleable__label {background-color: #d4ebff;}#sk-container-id-3 input.sk-hidden--visually {border: 0;clip: rect(1px 1px 1px 1px);clip: rect(1px, 1px, 1px, 1px);height: 1px;margin: -1px;overflow: hidden;padding: 0;position: absolute;width: 1px;}#sk-container-id-3 div.sk-estimator {font-family: monospace;background-color: #f0f8ff;border: 1px dotted black;border-radius: 0.25em;box-sizing: border-box;margin-bottom: 0.5em;}#sk-container-id-3 div.sk-estimator:hover {background-color: #d4ebff;}#sk-container-id-3 div.sk-parallel-item::after {content: \"\";width: 100%;border-bottom: 1px solid gray;flex-grow: 1;}#sk-container-id-3 div.sk-label:hover label.sk-toggleable__label {background-color: #d4ebff;}#sk-container-id-3 div.sk-serial::before {content: \"\";position: absolute;border-left: 1px solid gray;box-sizing: border-box;top: 0;bottom: 0;left: 50%;z-index: 0;}#sk-container-id-3 div.sk-serial {display: flex;flex-direction: column;align-items: center;background-color: white;padding-right: 0.2em;padding-left: 0.2em;position: relative;}#sk-container-id-3 div.sk-item {position: relative;z-index: 1;}#sk-container-id-3 div.sk-parallel {display: flex;align-items: stretch;justify-content: center;background-color: white;position: relative;}#sk-container-id-3 div.sk-item::before, #sk-container-id-3 div.sk-parallel-item::before {content: \"\";position: absolute;border-left: 1px solid gray;box-sizing: border-box;top: 0;bottom: 0;left: 50%;z-index: -1;}#sk-container-id-3 div.sk-parallel-item {display: flex;flex-direction: column;z-index: 1;position: relative;background-color: white;}#sk-container-id-3 div.sk-parallel-item:first-child::after {align-self: flex-end;width: 50%;}#sk-container-id-3 div.sk-parallel-item:last-child::after {align-self: flex-start;width: 50%;}#sk-container-id-3 div.sk-parallel-item:only-child::after {width: 0;}#sk-container-id-3 div.sk-dashed-wrapped {border: 1px dashed gray;margin: 0 0.4em 0.5em 0.4em;box-sizing: border-box;padding-bottom: 0.4em;background-color: white;}#sk-container-id-3 div.sk-label label {font-family: monospace;font-weight: bold;display: inline-block;line-height: 1.2em;}#sk-container-id-3 div.sk-label-container {text-align: center;}#sk-container-id-3 div.sk-container {/* jupyter's `normalize.less` sets `[hidden] { display: none; }` but bootstrap.min.css set `[hidden] { display: none !important; }` so we also need the `!important` here to be able to override the default hidden behavior on the sphinx rendered scikit-learn.org. See: https://github.com/scikit-learn/scikit-learn/issues/21755 */display: inline-block !important;position: relative;}#sk-container-id-3 div.sk-text-repr-fallback {display: none;}</style><div id=\"sk-container-id-3\" class=\"sk-top-container\"><div class=\"sk-text-repr-fallback\"><pre>LinearRegression()</pre><b>In a Jupyter environment, please rerun this cell to show the HTML representation or trust the notebook. <br />On GitHub, the HTML representation is unable to render, please try loading this page with nbviewer.org.</b></div><div class=\"sk-container\" hidden><div class=\"sk-item\"><div class=\"sk-estimator sk-toggleable\"><input class=\"sk-toggleable__control sk-hidden--visually\" id=\"sk-estimator-id-3\" type=\"checkbox\" checked><label for=\"sk-estimator-id-3\" class=\"sk-toggleable__label sk-toggleable__label-arrow\">LinearRegression</label><div class=\"sk-toggleable__content\"><pre>LinearRegression()</pre></div></div></div></div></div>"
      ],
      "text/plain": [
       "LinearRegression()"
      ]
     },
     "execution_count": 83,
     "metadata": {},
     "output_type": "execute_result"
    }
   ],
   "source": [
    "# Fit the regression object onto the training set.\n",
    "\n",
    "regression.fit(X_train, y_train)"
   ]
  },
  {
   "cell_type": "code",
   "execution_count": 84,
   "id": "7c1749fd-b7f6-4864-94eb-bc1f820afbb8",
   "metadata": {
    "tags": []
   },
   "outputs": [],
   "source": [
    "# Predict the values of y using X.\n",
    "\n",
    "y_predicted = regression.predict(X_test)"
   ]
  },
  {
   "cell_type": "code",
   "execution_count": 85,
   "id": "0b494244-a6de-4fcd-9c2f-294705387714",
   "metadata": {
    "tags": []
   },
   "outputs": [
    {
     "data": {
      "image/png": "[encoded data removed]",
      "text/plain": [
       "<Figure size 640x480 with 1 Axes>"
      ]
     },
     "metadata": {},
     "output_type": "display_data"
    }
   ],
   "source": [
    "# Create a plot that shows the regression line from the model on the test set.\n",
    "\n",
    "plot_test = plt\n",
    "plot_test.scatter(X_test, y_test, color='gray', s = 15)\n",
    "plot_test.plot(X_test, y_predicted, color='red', linewidth =3)\n",
    "plot_test.title('Number of artists vs. Danceability Score (Test set)')\n",
    "plot_test.xlabel('Number of artists')\n",
    "plot_test.ylabel('Danceability')\n",
    "plot_test.show()"
   ]
  },
  {
   "cell_type": "code",
   "execution_count": 86,
   "id": "f014a705-8435-4342-ba2b-43e98ab7d7a6",
   "metadata": {
    "tags": []
   },
   "outputs": [],
   "source": [
    "# Create objects that contain the model summary statistics.\n",
    "\n",
    "rmse = mean_squared_error(y_test, y_predicted)\n",
    "r2 = r2_score(y_test, y_predicted) "
   ]
  },
  {
   "cell_type": "code",
   "execution_count": 87,
   "id": "7e786d61-09f4-4785-9a28-0cc16133cac0",
   "metadata": {
    "tags": []
   },
   "outputs": [
    {
     "name": "stdout",
     "output_type": "stream",
     "text": [
      "Slope: [[0.01603002]]\n",
      "Mean squared error:  0.01680596508275944\n",
      "R2 score:  0.037829361935663774\n"
     ]
    }
   ],
   "source": [
    "# Print the model summary statistics.\n",
    "\n",
    "print('Slope:' ,regression.coef_)\n",
    "print('Mean squared error: ', rmse)\n",
    "print('R2 score: ', r2)"
   ]
  },
  {
   "cell_type": "markdown",
   "id": "4251f3d1-2cfa-4282-acf2-c160bb166784",
   "metadata": {},
   "source": [
    "**Descriptive statistics of the variables (for context)**"
   ]
  },
  {
   "cell_type": "code",
   "execution_count": 89,
   "id": "e0af989f-f342-4646-aa28-ccb0a2de646e",
   "metadata": {
    "tags": []
   },
   "outputs": [
    {
     "data": {
      "text/plain": [
       "count    1.691599e+06\n",
       "mean     2.247450e+00\n",
       "std      1.625682e+00\n",
       "min      1.000000e+00\n",
       "25%      1.000000e+00\n",
       "50%      2.000000e+00\n",
       "75%      3.000000e+00\n",
       "max      2.000000e+01\n",
       "Name: artists_num, dtype: float64"
      ]
     },
     "execution_count": 89,
     "metadata": {},
     "output_type": "execute_result"
    }
   ],
   "source": [
    "df_spotify['artists_num'].describe()"
   ]
  },
  {
   "cell_type": "code",
   "execution_count": 90,
   "id": "7522b5df-81ae-4de7-ae64-4f37dbd96504",
   "metadata": {
    "tags": []
   },
   "outputs": [
    {
     "data": {
      "text/plain": [
       "count    1.691599e+06\n",
       "mean     6.979214e-01\n",
       "std      1.319994e-01\n",
       "min      8.590000e-02\n",
       "25%      6.120000e-01\n",
       "50%      7.210000e-01\n",
       "75%      7.970000e-01\n",
       "max      9.860000e-01\n",
       "Name: danceability, dtype: float64"
      ]
     },
     "execution_count": 90,
     "metadata": {},
     "output_type": "execute_result"
    }
   ],
   "source": [
    "df_spotify['danceability'].describe()"
   ]
  },
  {
   "cell_type": "code",
   "execution_count": 91,
   "id": "e4fad473-aeb6-44b2-942d-774afdfa83e3",
   "metadata": {
    "tags": []
   },
   "outputs": [
    {
     "data": {
      "text/html": [
       "<div>\n",
       "<style scoped>\n",
       "    .dataframe tbody tr th:only-of-type {\n",
       "        vertical-align: middle;\n",
       "    }\n",
       "\n",
       "    .dataframe tbody tr th {\n",
       "        vertical-align: top;\n",
       "    }\n",
       "\n",
       "    .dataframe thead th {\n",
       "        text-align: right;\n",
       "    }\n",
       "</style>\n",
       "<table border=\"1\" class=\"dataframe\">\n",
       "  <thead>\n",
       "    <tr style=\"text-align: right;\">\n",
       "      <th></th>\n",
       "      <th>Actual</th>\n",
       "      <th>Predicted</th>\n",
       "    </tr>\n",
       "  </thead>\n",
       "  <tbody>\n",
       "    <tr>\n",
       "      <th>0</th>\n",
       "      <td>0.841</td>\n",
       "      <td>0.774267</td>\n",
       "    </tr>\n",
       "    <tr>\n",
       "      <th>1</th>\n",
       "      <td>0.746</td>\n",
       "      <td>0.710147</td>\n",
       "    </tr>\n",
       "    <tr>\n",
       "      <th>2</th>\n",
       "      <td>0.694</td>\n",
       "      <td>0.678087</td>\n",
       "    </tr>\n",
       "    <tr>\n",
       "      <th>3</th>\n",
       "      <td>0.714</td>\n",
       "      <td>0.678087</td>\n",
       "    </tr>\n",
       "    <tr>\n",
       "      <th>4</th>\n",
       "      <td>0.861</td>\n",
       "      <td>0.694117</td>\n",
       "    </tr>\n",
       "    <tr>\n",
       "      <th>5</th>\n",
       "      <td>0.689</td>\n",
       "      <td>0.694117</td>\n",
       "    </tr>\n",
       "    <tr>\n",
       "      <th>6</th>\n",
       "      <td>0.773</td>\n",
       "      <td>0.678087</td>\n",
       "    </tr>\n",
       "    <tr>\n",
       "      <th>7</th>\n",
       "      <td>0.811</td>\n",
       "      <td>0.710147</td>\n",
       "    </tr>\n",
       "    <tr>\n",
       "      <th>8</th>\n",
       "      <td>0.572</td>\n",
       "      <td>0.694117</td>\n",
       "    </tr>\n",
       "    <tr>\n",
       "      <th>9</th>\n",
       "      <td>0.742</td>\n",
       "      <td>0.694117</td>\n",
       "    </tr>\n",
       "    <tr>\n",
       "      <th>10</th>\n",
       "      <td>0.626</td>\n",
       "      <td>0.694117</td>\n",
       "    </tr>\n",
       "    <tr>\n",
       "      <th>11</th>\n",
       "      <td>0.778</td>\n",
       "      <td>0.726177</td>\n",
       "    </tr>\n",
       "    <tr>\n",
       "      <th>12</th>\n",
       "      <td>0.561</td>\n",
       "      <td>0.678087</td>\n",
       "    </tr>\n",
       "    <tr>\n",
       "      <th>13</th>\n",
       "      <td>0.812</td>\n",
       "      <td>0.710147</td>\n",
       "    </tr>\n",
       "    <tr>\n",
       "      <th>14</th>\n",
       "      <td>0.663</td>\n",
       "      <td>0.694117</td>\n",
       "    </tr>\n",
       "  </tbody>\n",
       "</table>\n",
       "</div>"
      ],
      "text/plain": [
       "    Actual  Predicted\n",
       "0    0.841   0.774267\n",
       "1    0.746   0.710147\n",
       "2    0.694   0.678087\n",
       "3    0.714   0.678087\n",
       "4    0.861   0.694117\n",
       "5    0.689   0.694117\n",
       "6    0.773   0.678087\n",
       "7    0.811   0.710147\n",
       "8    0.572   0.694117\n",
       "9    0.742   0.694117\n",
       "10   0.626   0.694117\n",
       "11   0.778   0.726177\n",
       "12   0.561   0.678087\n",
       "13   0.812   0.710147\n",
       "14   0.663   0.694117"
      ]
     },
     "execution_count": 91,
     "metadata": {},
     "output_type": "execute_result"
    }
   ],
   "source": [
    "# Create a dataframe comparing the actual and predicted values of y.\n",
    "\n",
    "data = pd.DataFrame({'Actual': y_test.flatten(), 'Predicted': y_predicted.flatten()})\n",
    "data.head(15)"
   ]
  },
  {
   "cell_type": "markdown",
   "id": "a09fc215-4496-4b08-afed-39c62709b207",
   "metadata": {
    "jp-MarkdownHeadingCollapsed": true,
    "tags": []
   },
   "source": [
    "### Insight: Number of artists and duration\n",
    "\n",
    "The model's slope shows a small positive relationship between variables, but the R² score of 0.037 suggests it explains only 3.7% of the variance, indicating a weak fit. The MSE of 0.0168 is relatively small, meaning predictions are somewhat close to actual values, but the low R² suggests that the model isn't capturing much of the data's variability"
   ]
  },
  {
   "cell_type": "markdown",
   "id": "ae62f820-d214-41ba-9e22-d241da897d60",
   "metadata": {},
   "source": [
    "### Regression Analysis: Duration"
   ]
  },
  {
   "cell_type": "code",
   "execution_count": 94,
   "id": "5df3b656-3af5-4998-aec1-29dbdcf34ae3",
   "metadata": {
    "tags": []
   },
   "outputs": [],
   "source": [
    "# Reshape the variables into NumPy arrays and put them into separate objects.\n",
    "\n",
    "W = df_spotify['artists_num'].values.reshape(-1,1)\n",
    "z = df_spotify['duration'].values.reshape(-1,1)"
   ]
  },
  {
   "cell_type": "code",
   "execution_count": 95,
   "id": "02e70d8b-5c60-4a16-9fa1-10c96724e698",
   "metadata": {
    "tags": []
   },
   "outputs": [],
   "source": [
    "# Split data into a training set and a test set.\n",
    "\n",
    "W_train, W_test, z_train, z_test = train_test_split(W, z, test_size=0.3, random_state=0)"
   ]
  },
  {
   "cell_type": "code",
   "execution_count": 96,
   "id": "bb6179b8-daa1-46e1-9c42-2148929bade4",
   "metadata": {
    "tags": []
   },
   "outputs": [],
   "source": [
    "# Create a regression object.\n",
    "\n",
    "regression2 = LinearRegression()"
   ]
  },
  {
   "cell_type": "code",
   "execution_count": 97,
   "id": "d36c2e69-7e52-48a4-aa03-f533663f1663",
   "metadata": {
    "tags": []
   },
   "outputs": [
    {
     "data": {
      "text/html": [
       "<style>#sk-container-id-4 {color: black;background-color: white;}#sk-container-id-4 pre{padding: 0;}#sk-container-id-4 div.sk-toggleable {background-color: white;}#sk-container-id-4 label.sk-toggleable__label {cursor: pointer;display: block;width: 100%;margin-bottom: 0;padding: 0.3em;box-sizing: border-box;text-align: center;}#sk-container-id-4 label.sk-toggleable__label-arrow:before {content: \"▸\";float: left;margin-right: 0.25em;color: #696969;}#sk-container-id-4 label.sk-toggleable__label-arrow:hover:before {color: black;}#sk-container-id-4 div.sk-estimator:hover label.sk-toggleable__label-arrow:before {color: black;}#sk-container-id-4 div.sk-toggleable__content {max-height: 0;max-width: 0;overflow: hidden;text-align: left;background-color: #f0f8ff;}#sk-container-id-4 div.sk-toggleable__content pre {margin: 0.2em;color: black;border-radius: 0.25em;background-color: #f0f8ff;}#sk-container-id-4 input.sk-toggleable__control:checked~div.sk-toggleable__content {max-height: 200px;max-width: 100%;overflow: auto;}#sk-container-id-4 input.sk-toggleable__control:checked~label.sk-toggleable__label-arrow:before {content: \"▾\";}#sk-container-id-4 div.sk-estimator input.sk-toggleable__control:checked~label.sk-toggleable__label {background-color: #d4ebff;}#sk-container-id-4 div.sk-label input.sk-toggleable__control:checked~label.sk-toggleable__label {background-color: #d4ebff;}#sk-container-id-4 input.sk-hidden--visually {border: 0;clip: rect(1px 1px 1px 1px);clip: rect(1px, 1px, 1px, 1px);height: 1px;margin: -1px;overflow: hidden;padding: 0;position: absolute;width: 1px;}#sk-container-id-4 div.sk-estimator {font-family: monospace;background-color: #f0f8ff;border: 1px dotted black;border-radius: 0.25em;box-sizing: border-box;margin-bottom: 0.5em;}#sk-container-id-4 div.sk-estimator:hover {background-color: #d4ebff;}#sk-container-id-4 div.sk-parallel-item::after {content: \"\";width: 100%;border-bottom: 1px solid gray;flex-grow: 1;}#sk-container-id-4 div.sk-label:hover label.sk-toggleable__label {background-color: #d4ebff;}#sk-container-id-4 div.sk-serial::before {content: \"\";position: absolute;border-left: 1px solid gray;box-sizing: border-box;top: 0;bottom: 0;left: 50%;z-index: 0;}#sk-container-id-4 div.sk-serial {display: flex;flex-direction: column;align-items: center;background-color: white;padding-right: 0.2em;padding-left: 0.2em;position: relative;}#sk-container-id-4 div.sk-item {position: relative;z-index: 1;}#sk-container-id-4 div.sk-parallel {display: flex;align-items: stretch;justify-content: center;background-color: white;position: relative;}#sk-container-id-4 div.sk-item::before, #sk-container-id-4 div.sk-parallel-item::before {content: \"\";position: absolute;border-left: 1px solid gray;box-sizing: border-box;top: 0;bottom: 0;left: 50%;z-index: -1;}#sk-container-id-4 div.sk-parallel-item {display: flex;flex-direction: column;z-index: 1;position: relative;background-color: white;}#sk-container-id-4 div.sk-parallel-item:first-child::after {align-self: flex-end;width: 50%;}#sk-container-id-4 div.sk-parallel-item:last-child::after {align-self: flex-start;width: 50%;}#sk-container-id-4 div.sk-parallel-item:only-child::after {width: 0;}#sk-container-id-4 div.sk-dashed-wrapped {border: 1px dashed gray;margin: 0 0.4em 0.5em 0.4em;box-sizing: border-box;padding-bottom: 0.4em;background-color: white;}#sk-container-id-4 div.sk-label label {font-family: monospace;font-weight: bold;display: inline-block;line-height: 1.2em;}#sk-container-id-4 div.sk-label-container {text-align: center;}#sk-container-id-4 div.sk-container {/* jupyter's `normalize.less` sets `[hidden] { display: none; }` but bootstrap.min.css set `[hidden] { display: none !important; }` so we also need the `!important` here to be able to override the default hidden behavior on the sphinx rendered scikit-learn.org. See: https://github.com/scikit-learn/scikit-learn/issues/21755 */display: inline-block !important;position: relative;}#sk-container-id-4 div.sk-text-repr-fallback {display: none;}</style><div id=\"sk-container-id-4\" class=\"sk-top-container\"><div class=\"sk-text-repr-fallback\"><pre>LinearRegression()</pre><b>In a Jupyter environment, please rerun this cell to show the HTML representation or trust the notebook. <br />On GitHub, the HTML representation is unable to render, please try loading this page with nbviewer.org.</b></div><div class=\"sk-container\" hidden><div class=\"sk-item\"><div class=\"sk-estimator sk-toggleable\"><input class=\"sk-toggleable__control sk-hidden--visually\" id=\"sk-estimator-id-4\" type=\"checkbox\" checked><label for=\"sk-estimator-id-4\" class=\"sk-toggleable__label sk-toggleable__label-arrow\">LinearRegression</label><div class=\"sk-toggleable__content\"><pre>LinearRegression()</pre></div></div></div></div></div>"
      ],
      "text/plain": [
       "LinearRegression()"
      ]
     },
     "execution_count": 97,
     "metadata": {},
     "output_type": "execute_result"
    }
   ],
   "source": [
    "# Fit the regression object onto the training set.\n",
    "\n",
    "regression2.fit(W_train, z_train)"
   ]
  },
  {
   "cell_type": "code",
   "execution_count": 98,
   "id": "7a375b87-9ef4-4ff9-999e-3b0b6f7218f0",
   "metadata": {
    "tags": []
   },
   "outputs": [],
   "source": [
    "# Predict the values of y using X.\n",
    "\n",
    "z_predicted = regression2.predict(W_test)"
   ]
  },
  {
   "cell_type": "code",
   "execution_count": 99,
   "id": "4dcf6c5e-a39c-40e9-b9cc-62d30bed4bba",
   "metadata": {
    "tags": []
   },
   "outputs": [
    {
     "data": {
      "image/png": "[encoded data removed]",
      "text/plain": [
       "<Figure size 640x480 with 1 Axes>"
      ]
     },
     "metadata": {},
     "output_type": "display_data"
    }
   ],
   "source": [
    "# Create a plot that shows the regression line from the model on the test set.\n",
    "\n",
    "plot_test2 = plt\n",
    "plot_test2.scatter(W_test, z_test, color='gray', s = 15)\n",
    "plot_test2.plot(W_test, z_predicted, color='red', linewidth =3)\n",
    "plot_test2.title('Number of artists vs. Duration (Test set)')\n",
    "plot_test2.xlabel('Number of artists')\n",
    "plot_test2.ylabel('Duration [ms]')\n",
    "plot_test2.show()"
   ]
  },
  {
   "cell_type": "code",
   "execution_count": 100,
   "id": "8a94c813-5852-4e9b-bbc5-a55581febd6f",
   "metadata": {
    "tags": []
   },
   "outputs": [],
   "source": [
    "# Create objects that contain the model summary statistics.\n",
    "\n",
    "rmse_2 = mean_squared_error(z_test, z_predicted)\n",
    "r2_2 = r2_score(z_test, z_predicted) "
   ]
  },
  {
   "cell_type": "code",
   "execution_count": 101,
   "id": "202683e5-38f1-4d0d-a6a2-c92c9fae81ea",
   "metadata": {
    "tags": []
   },
   "outputs": [
    {
     "name": "stdout",
     "output_type": "stream",
     "text": [
      "Slope: [[15337.46251018]]\n",
      "Mean squared error:  2841496078.778264\n",
      "R2 score:  0.17971810939462474\n"
     ]
    }
   ],
   "source": [
    "# Print the model summary statistics.\n",
    "\n",
    "print('Slope:' ,regression2.coef_)\n",
    "print('Mean squared error: ', rmse_2)\n",
    "print('R2 score: ', r2_2)"
   ]
  },
  {
   "cell_type": "markdown",
   "id": "562addac-f015-4106-8f77-003ff92457c3",
   "metadata": {},
   "source": [
    "**Descriptive statistics of the variables (for context)**"
   ]
  },
  {
   "cell_type": "code",
   "execution_count": 103,
   "id": "2178b04b-8621-4e13-a89d-39ada4dddbee",
   "metadata": {
    "tags": []
   },
   "outputs": [
    {
     "data": {
      "text/plain": [
       "count    1.691599e+06\n",
       "mean     2.115581e+05\n",
       "std      5.868192e+04\n",
       "min      3.126700e+04\n",
       "25%      1.733810e+05\n",
       "50%      2.024670e+05\n",
       "75%      2.340000e+05\n",
       "max      1.787030e+06\n",
       "Name: duration, dtype: float64"
      ]
     },
     "execution_count": 103,
     "metadata": {},
     "output_type": "execute_result"
    }
   ],
   "source": [
    "df_spotify['duration'].describe()"
   ]
  },
  {
   "cell_type": "code",
   "execution_count": 104,
   "id": "d81cedbe-6905-400b-acce-9c33d3e92f0a",
   "metadata": {
    "tags": []
   },
   "outputs": [
    {
     "data": {
      "text/plain": [
       "count    1.691599e+06\n",
       "mean     2.247450e+00\n",
       "std      1.625682e+00\n",
       "min      1.000000e+00\n",
       "25%      1.000000e+00\n",
       "50%      2.000000e+00\n",
       "75%      3.000000e+00\n",
       "max      2.000000e+01\n",
       "Name: artists_num, dtype: float64"
      ]
     },
     "execution_count": 104,
     "metadata": {},
     "output_type": "execute_result"
    }
   ],
   "source": [
    "df_spotify['artists_num'].describe()"
   ]
  },
  {
   "cell_type": "code",
   "execution_count": 105,
   "id": "59608c14-af44-4da4-b3ea-40b6e8915ad4",
   "metadata": {
    "tags": []
   },
   "outputs": [
    {
     "data": {
      "text/html": [
       "<div>\n",
       "<style scoped>\n",
       "    .dataframe tbody tr th:only-of-type {\n",
       "        vertical-align: middle;\n",
       "    }\n",
       "\n",
       "    .dataframe tbody tr th {\n",
       "        vertical-align: top;\n",
       "    }\n",
       "\n",
       "    .dataframe thead th {\n",
       "        text-align: right;\n",
       "    }\n",
       "</style>\n",
       "<table border=\"1\" class=\"dataframe\">\n",
       "  <thead>\n",
       "    <tr style=\"text-align: right;\">\n",
       "      <th></th>\n",
       "      <th>Actual</th>\n",
       "      <th>Predicted</th>\n",
       "    </tr>\n",
       "  </thead>\n",
       "  <tbody>\n",
       "    <tr>\n",
       "      <th>0</th>\n",
       "      <td>382555.0</td>\n",
       "      <td>284398.169853</td>\n",
       "    </tr>\n",
       "    <tr>\n",
       "      <th>1</th>\n",
       "      <td>222004.0</td>\n",
       "      <td>223048.319812</td>\n",
       "    </tr>\n",
       "    <tr>\n",
       "      <th>2</th>\n",
       "      <td>146087.0</td>\n",
       "      <td>192373.394792</td>\n",
       "    </tr>\n",
       "    <tr>\n",
       "      <th>3</th>\n",
       "      <td>177955.0</td>\n",
       "      <td>192373.394792</td>\n",
       "    </tr>\n",
       "    <tr>\n",
       "      <th>4</th>\n",
       "      <td>171232.0</td>\n",
       "      <td>207710.857302</td>\n",
       "    </tr>\n",
       "    <tr>\n",
       "      <th>5</th>\n",
       "      <td>218853.0</td>\n",
       "      <td>207710.857302</td>\n",
       "    </tr>\n",
       "    <tr>\n",
       "      <th>6</th>\n",
       "      <td>165265.0</td>\n",
       "      <td>192373.394792</td>\n",
       "    </tr>\n",
       "    <tr>\n",
       "      <th>7</th>\n",
       "      <td>175187.0</td>\n",
       "      <td>223048.319812</td>\n",
       "    </tr>\n",
       "    <tr>\n",
       "      <th>8</th>\n",
       "      <td>215733.0</td>\n",
       "      <td>207710.857302</td>\n",
       "    </tr>\n",
       "    <tr>\n",
       "      <th>9</th>\n",
       "      <td>238720.0</td>\n",
       "      <td>207710.857302</td>\n",
       "    </tr>\n",
       "    <tr>\n",
       "      <th>10</th>\n",
       "      <td>179746.0</td>\n",
       "      <td>207710.857302</td>\n",
       "    </tr>\n",
       "    <tr>\n",
       "      <th>11</th>\n",
       "      <td>147239.0</td>\n",
       "      <td>238385.782322</td>\n",
       "    </tr>\n",
       "    <tr>\n",
       "      <th>12</th>\n",
       "      <td>242013.0</td>\n",
       "      <td>192373.394792</td>\n",
       "    </tr>\n",
       "    <tr>\n",
       "      <th>13</th>\n",
       "      <td>255607.0</td>\n",
       "      <td>223048.319812</td>\n",
       "    </tr>\n",
       "    <tr>\n",
       "      <th>14</th>\n",
       "      <td>198367.0</td>\n",
       "      <td>207710.857302</td>\n",
       "    </tr>\n",
       "  </tbody>\n",
       "</table>\n",
       "</div>"
      ],
      "text/plain": [
       "      Actual      Predicted\n",
       "0   382555.0  284398.169853\n",
       "1   222004.0  223048.319812\n",
       "2   146087.0  192373.394792\n",
       "3   177955.0  192373.394792\n",
       "4   171232.0  207710.857302\n",
       "5   218853.0  207710.857302\n",
       "6   165265.0  192373.394792\n",
       "7   175187.0  223048.319812\n",
       "8   215733.0  207710.857302\n",
       "9   238720.0  207710.857302\n",
       "10  179746.0  207710.857302\n",
       "11  147239.0  238385.782322\n",
       "12  242013.0  192373.394792\n",
       "13  255607.0  223048.319812\n",
       "14  198367.0  207710.857302"
      ]
     },
     "execution_count": 105,
     "metadata": {},
     "output_type": "execute_result"
    }
   ],
   "source": [
    "# Create a dataframe comparing the actual and predicted values of y.\n",
    "\n",
    "data_2 = pd.DataFrame({'Actual': z_test.flatten(), 'Predicted': z_predicted.flatten()})\n",
    "data_2.head(15)"
   ]
  },
  {
   "cell_type": "markdown",
   "id": "8ba0e924-11c3-41a5-9cc4-f745905af604",
   "metadata": {},
   "source": [
    "### Insight: Number of artists and duration\n",
    "\n",
    "\n",
    "The model suggests that more artists are linked to longer track durations, but it doesn't fit the data very well. With an R² of just 0.179 and a high MSE, it only explains 17.9% of the variation in duration. The model might need additional features or refinement to improve accuracy."
   ]
  },
  {
   "cell_type": "markdown",
   "id": "3695119f-f29b-4272-ad06-7d0bbb27dc8f",
   "metadata": {},
   "source": [
    "### Possible Data Bias"
   ]
  },
  {
   "cell_type": "markdown",
   "id": "d4a1af81-85de-44bb-9e8c-3f45d9370265",
   "metadata": {},
   "source": [
    "I believe since the models don't have such a good fit there is not a good possibility that this data insights affect other people.\n",
    "\n",
    "It could be possible to remove outliers from this dataset (specifically that song with 29 minutes). But I don't believe this would improve this model so much. \n",
    "\n",
    "In the last notebook with the pair plots, many of the relationships didn't seem linear to me. Some of them looked as if they were polynomial or fell into the form created by this graph\n",
    "\n",
    "y= 1/x\n",
    "\n",
    "My current knowledge does not allow me to arrive to further insights. "
   ]
  }
 ],
 "metadata": {
  "kernelspec": {
   "display_name": "Python 3 (ipykernel)",
   "language": "python",
   "name": "python3"
  },
  "language_info": {
   "codemirror_mode": {
    "name": "ipython",
    "version": 3
   },
   "file_extension": ".py",
   "mimetype": "text/x-python",
   "name": "python",
   "nbconvert_exporter": "python",
   "pygments_lexer": "ipython3",
   "version": "3.11.7"
  }
 },
 "nbformat": 4,
 "nbformat_minor": 5
}
